{
 "cells": [
  {
   "cell_type": "code",
   "execution_count": 1,
   "id": "fb9f20f8",
   "metadata": {},
   "outputs": [],
   "source": [
    "import pandas as pd\n",
    "import numpy as np\n",
    "\n",
    "from sklearn.model_selection import train_test_split\n",
    "from sklearn.model_selection import KFold\n",
    "\n",
    "from sklearn.feature_extraction import DictVectorizer\n",
    "from sklearn.linear_model import LogisticRegression\n",
    "from sklearn.metrics import roc_auc_score"
   ]
  },
  {
   "cell_type": "code",
   "execution_count": 2,
   "id": "aa941009",
   "metadata": {},
   "outputs": [
    {
     "name": "stdout",
     "output_type": "stream",
     "text": [
      "['lead_source', 'industry', 'employment_status', 'location']\n",
      "['number_of_courses_viewed', 'annual_income', 'interaction_count', 'lead_score', 'converted']\n"
     ]
    },
    {
     "data": {
      "text/plain": [
       "lead_source                 0\n",
       "industry                    0\n",
       "number_of_courses_viewed    0\n",
       "annual_income               0\n",
       "employment_status           0\n",
       "location                    0\n",
       "interaction_count           0\n",
       "lead_score                  0\n",
       "converted                   0\n",
       "dtype: int64"
      ]
     },
     "execution_count": 2,
     "metadata": {},
     "output_type": "execute_result"
    }
   ],
   "source": [
    "# Load model from Weeks 3/4 \n",
    "\n",
    "df = pd.read_csv(\"course_lead_scoring.csv\")\n",
    "\n",
    "cat_features = list(df.dtypes[df.dtypes == 'object'].index)\n",
    "print(cat_features)\n",
    "\n",
    "num_features = df.select_dtypes(include=['int64', 'float64']).columns.tolist()\n",
    "print(num_features)\n",
    "\n",
    "\n",
    "for col in cat_features:\n",
    "    df[col] = df[col].fillna('NA')\n",
    "\n",
    "for col in num_features:\n",
    "    df[col] = df[col].fillna(0)\n",
    "\n",
    "\n",
    "df.isnull().sum()\n",
    "\n"
   ]
  },
  {
   "cell_type": "code",
   "execution_count": 3,
   "id": "bb52f2c7",
   "metadata": {},
   "outputs": [],
   "source": [
    "df_full_train, df_test = train_test_split(df, test_size=0.2, random_state=1)"
   ]
  },
  {
   "cell_type": "code",
   "execution_count": 4,
   "id": "b39ff115",
   "metadata": {},
   "outputs": [],
   "source": [
    "# # Check and remove 'converted' from numerical features list\n",
    "# if 'converted' in num_features:\n",
    "#     num_features.remove('converted')\n",
    "    \n",
    "# # Check and remove 'converted' from categorical features list if it was mistakenly there\n",
    "# if 'converted' in cat_features:\n",
    "#     cat_features.remove('converted')\n",
    "\n",
    "# # Initiate the model\n",
    "all_features = cat_features +  num_features"
   ]
  },
  {
   "cell_type": "code",
   "execution_count": 5,
   "id": "bed2f3f8",
   "metadata": {},
   "outputs": [],
   "source": [
    "# Define functions that train / run the model \n",
    "\n",
    "def train(df_train, y_train, C=1.0):\n",
    "    \"\"\"Trains the Logistic Regression model.\"\"\"\n",
    "    dicts = df_train[cat_features + num_features].to_dict(orient='records')\n",
    "\n",
    "    dv = DictVectorizer(sparse=False)\n",
    "    X_train = dv.fit_transform(dicts)\n",
    "\n",
    "    # Using solver='liblinear' is important for C < 1.0 (though here C=1.0)\n",
    "    model = LogisticRegression(solver='liblinear', C=C, max_iter=1000) \n",
    "    model.fit(X_train, y_train)\n",
    "\n",
    "    return dv, model\n",
    "\n",
    "def predict(df, dv, model):\n",
    "    \"\"\"Generates probability predictions on the given DataFrame.\"\"\"\n",
    "    dicts = df[cat_features + num_features].to_dict(orient='records')\n",
    "\n",
    "    X = dv.transform(dicts)\n",
    "    y_pred = model.predict_proba(X)[:, 1]\n",
    "\n",
    "    return y_pred"
   ]
  },
  {
   "cell_type": "code",
   "execution_count": 6,
   "id": "44ef589a",
   "metadata": {},
   "outputs": [],
   "source": [
    "C = 1.0 \n",
    "n_splits = 5"
   ]
  },
  {
   "cell_type": "code",
   "execution_count": 7,
   "id": "fadaf49c",
   "metadata": {},
   "outputs": [
    {
     "name": "stdout",
     "output_type": "stream",
     "text": [
      "C=1.0 0.876 +- 0.032\n"
     ]
    }
   ],
   "source": [
    "kfold = KFold(n_splits=n_splits, shuffle=True, random_state=1)\n",
    "\n",
    "scores = []\n",
    "\n",
    "for train_idx, val_idx in kfold.split(df_full_train): \n",
    "    df_train = df_full_train.iloc[train_idx]\n",
    "    df_val = df_full_train.iloc[val_idx]\n",
    "\n",
    "    y_train = df_train.converted.values\n",
    "    y_val = df_val.converted.values\n",
    "\n",
    "    dv, model = train(df_train, y_train, C=C)\n",
    "    y_pred = predict(df_val, dv, model)\n",
    "\n",
    "    auc = roc_auc_score(y_val, y_pred)\n",
    "    scores.append(auc)\n",
    "\n",
    "print('C=%s %.3f +- %.3f' % (C, np.mean(scores), np.std(scores)))\n"
   ]
  },
  {
   "cell_type": "code",
   "execution_count": 8,
   "id": "a6d31e80",
   "metadata": {},
   "outputs": [
    {
     "data": {
      "text/plain": [
       "[0.8688304920717635,\n",
       " 0.9216514191883649,\n",
       " 0.8433810305731487,\n",
       " 0.8422322540473225,\n",
       " 0.9026466491255224]"
      ]
     },
     "execution_count": 8,
     "metadata": {},
     "output_type": "execute_result"
    }
   ],
   "source": [
    "scores"
   ]
  },
  {
   "cell_type": "code",
   "execution_count": 9,
   "id": "e88ebeb4",
   "metadata": {},
   "outputs": [
    {
     "data": {
      "text/plain": [
       "0.8674501788451712"
      ]
     },
     "execution_count": 9,
     "metadata": {},
     "output_type": "execute_result"
    }
   ],
   "source": [
    "dv, model = train(df_full_train, df_full_train.converted.values, C=1.0)\n",
    "y_pred = predict(df_test, dv, model)\n",
    "\n",
    "y_test = df_test.converted.values\n",
    "auc = roc_auc_score(y_test, y_pred)\n",
    "auc"
   ]
  },
  {
   "cell_type": "code",
   "execution_count": 10,
   "id": "ef4dfa0c",
   "metadata": {},
   "outputs": [],
   "source": [
    "import pickle "
   ]
  },
  {
   "cell_type": "code",
   "execution_count": 11,
   "id": "500a115c",
   "metadata": {},
   "outputs": [
    {
     "data": {
      "text/plain": [
       "'model_C=1.0.bin'"
      ]
     },
     "execution_count": 11,
     "metadata": {},
     "output_type": "execute_result"
    }
   ],
   "source": [
    "# output_file = open(f'model_C=%s.bin') % C\n",
    "output_file = f'model_C={C}.bin'\n",
    "output_file"
   ]
  },
  {
   "cell_type": "code",
   "execution_count": 12,
   "id": "1e15f9f7",
   "metadata": {},
   "outputs": [],
   "source": [
    "f_out = open(output_file, 'wb')\n",
    "# pickle.dump(model, f_out)\n",
    "pickle.dump((dv, model), f_out)\n",
    "\n",
    "f_out.close() "
   ]
  },
  {
   "cell_type": "code",
   "execution_count": null,
   "id": "5c7434e8",
   "metadata": {},
   "outputs": [],
   "source": [
    "with open(output_file, 'wb') as f_out:\n",
    "    pickle.dump((dv, model), f_out)  # do stuff\n",
    "\n",
    "        # autoclosed outside of the block above\n",
    "# ______________________________________________________"
   ]
  },
  {
   "cell_type": "code",
   "execution_count": 2,
   "id": "f1705493",
   "metadata": {},
   "outputs": [],
   "source": [
    "import pickle"
   ]
  },
  {
   "cell_type": "code",
   "execution_count": 4,
   "id": "7ba03d90",
   "metadata": {},
   "outputs": [],
   "source": [
    "input_file = 'model_C=1.0.bin'\n",
    "\n",
    "with open(input_file, 'rb') as f_in:\n",
    "    dv, model = pickle.load(f_in)"
   ]
  },
  {
   "cell_type": "code",
   "execution_count": 7,
   "id": "88762776",
   "metadata": {},
   "outputs": [
    {
     "data": {
      "text/plain": [
       "(DictVectorizer(sparse=False),\n",
       " LogisticRegression(max_iter=1000, solver='liblinear'))"
      ]
     },
     "execution_count": 7,
     "metadata": {},
     "output_type": "execute_result"
    }
   ],
   "source": [
    "dv, model"
   ]
  },
  {
   "cell_type": "code",
   "execution_count": 19,
   "id": "e2d15aa0",
   "metadata": {},
   "outputs": [],
   "source": [
    "customer = {'lead_source': 'paid_ads',\n",
    "            'industry': 'education',\n",
    "            'number_of_courses_viewed': 5,\n",
    "            'annual_income': 52254.0,\n",
    "            'employment_status': 'employed',\n",
    "            'location': 'south_america',\n",
    "            'interaction_count': 5,\n",
    "            'lead_score': 0.49,\n",
    "            'converted': 1}"
   ]
  },
  {
   "cell_type": "code",
   "execution_count": null,
   "id": "3c89ba9a",
   "metadata": {},
   "outputs": [],
   "source": [
    "X = dv.transform([customer])"
   ]
  },
  {
   "cell_type": "code",
   "execution_count": 28,
   "id": "892c31b3",
   "metadata": {},
   "outputs": [
    {
     "data": {
      "text/plain": [
       "np.float64(0.951)"
      ]
     },
     "execution_count": 28,
     "metadata": {},
     "output_type": "execute_result"
    }
   ],
   "source": [
    "model.predict_proba(X)[0,1].round(4)"
   ]
  }
 ],
 "metadata": {
  "kernelspec": {
   "display_name": "Python 3",
   "language": "python",
   "name": "python3"
  },
  "language_info": {
   "codemirror_mode": {
    "name": "ipython",
    "version": 3
   },
   "file_extension": ".py",
   "mimetype": "text/x-python",
   "name": "python",
   "nbconvert_exporter": "python",
   "pygments_lexer": "ipython3",
   "version": "3.13.3"
  }
 },
 "nbformat": 4,
 "nbformat_minor": 5
}
