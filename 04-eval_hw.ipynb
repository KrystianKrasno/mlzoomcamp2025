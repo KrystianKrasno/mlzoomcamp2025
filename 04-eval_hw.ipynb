{
 "cells": [
  {
   "cell_type": "code",
   "execution_count": 184,
   "id": "8cdeaade",
   "metadata": {},
   "outputs": [],
   "source": [
    "import pandas as pd\n",
    "import numpy as np\n",
    "\n",
    "import matplotlib.pyplot as plt\n",
    "\n",
    "from sklearn.model_selection import train_test_split\n",
    "from sklearn.feature_extraction import DictVectorizer\n",
    "from sklearn.linear_model import LogisticRegression"
   ]
  },
  {
   "cell_type": "code",
   "execution_count": 185,
   "id": "6e727db7",
   "metadata": {},
   "outputs": [
    {
     "name": "stdout",
     "output_type": "stream",
     "text": [
      "<class 'pandas.core.frame.DataFrame'>\n",
      "RangeIndex: 1462 entries, 0 to 1461\n",
      "Data columns (total 9 columns):\n",
      " #   Column                    Non-Null Count  Dtype  \n",
      "---  ------                    --------------  -----  \n",
      " 0   lead_source               1334 non-null   object \n",
      " 1   industry                  1328 non-null   object \n",
      " 2   number_of_courses_viewed  1462 non-null   int64  \n",
      " 3   annual_income             1281 non-null   float64\n",
      " 4   employment_status         1362 non-null   object \n",
      " 5   location                  1399 non-null   object \n",
      " 6   interaction_count         1462 non-null   int64  \n",
      " 7   lead_score                1462 non-null   float64\n",
      " 8   converted                 1462 non-null   int64  \n",
      "dtypes: float64(2), int64(3), object(4)\n",
      "memory usage: 102.9+ KB\n",
      "['lead_source', 'industry', 'employment_status', 'location']\n",
      "['number_of_courses_viewed', 'annual_income', 'interaction_count', 'lead_score', 'converted']\n"
     ]
    }
   ],
   "source": [
    "# ## Homework - Week 4  - Evaluation \n",
    "# In this dataset our desired target for classification task will be `converted` variable - has the client signed up to the platform or not. \n",
    "\n",
    "df = pd.read_csv(\"course_lead_scoring.csv\")\n",
    "\n",
    "df.head().T\n",
    "\n",
    "# ### Data preparation\n",
    "# * Check if the missing values are presented in the features.# Data preparation\n",
    "    # Check if the missing values are presented in the features.\n",
    "\n",
    "df.isnull().sum()\n",
    "df.info() \n",
    "\n",
    "# * If there are missing values:\n",
    "#     * For caterogiral features, replace them with 'NA'\n",
    "#     * For numerical features, replace with with 0.0 \n",
    "\n",
    "cat_features = list(df.dtypes[df.dtypes == 'object'].index)\n",
    "print(cat_features)\n",
    "\n",
    "for col in cat_features:\n",
    "    df[col] = df[col].fillna('NA')\n",
    "\n",
    "num_features = df.select_dtypes(include=['int64', 'float64']).columns.tolist()\n",
    "print(num_features)\n",
    "\n",
    "for col in num_features:\n",
    "    df[col] = df[col].fillna(0)\n",
    "\n",
    "df.isnull().sum()\n",
    "\n",
    "# Split the data into 3 parts: train/validation/test with 60%/20%/20% distribution. Use `train_test_split` function for that with `random_state=1`\n",
    "\n",
    "df_full_train, df_test =train_test_split(df, test_size=0.2, random_state=1)\n",
    "\n",
    "df_train,df_val = train_test_split(df_full_train, test_size=0.25, random_state=42)\n",
    "# split the df_train which was 80% of the original df as 0.25 * 0.80 = .20) \n",
    "\n",
    "df_train = df_train.reset_index(drop=True)\n",
    "df_val = df_val.reset_index(drop=True)\n",
    "df_test = df_test.reset_index(drop=True)\n",
    "\n",
    " \n",
    "y_train = df_train.converted.values\n",
    "y_val = df_val.converted.values\n",
    "y_test = df_test.converted.values\n",
    "\n",
    "# For Q6\n",
    "df_full_train = df_train\n",
    "y_full_train = y_train \n",
    " \n",
    "del df_train['converted']\n",
    "del df_val['converted']\n",
    "del df_test['converted'] \n",
    "\n",
    "# # Initiate the model\n",
    "# all_features = cat_features +  num_features\n",
    "# # Seperate target variables in y_ series of dfs\n",
    "# y_train = df_train[\"converted\"].values\n",
    "# y_val = df_val[\"converted\"].values\n",
    "# y_test = df_test[\"converted\"].values\n",
    "\n",
    "\n",
    "# # Drop target variable from dfs \n",
    "# df_train = df_train.drop(columns =[\"converted\"])\n",
    "# df_val = df_val.drop(columns=[\"converted\"])\n",
    "# df_test = df_test.drop(columns =[\"converted\"])\n"
   ]
  },
  {
   "cell_type": "code",
   "execution_count": 186,
   "id": "987f87dc",
   "metadata": {},
   "outputs": [
    {
     "name": "stdout",
     "output_type": "stream",
     "text": [
      "1462\n",
      "876\n",
      "876\n",
      "293\n",
      "293\n"
     ]
    }
   ],
   "source": [
    "# Length Check Before Continuing \n",
    "print(len(df))\n",
    "print(len(df_full_train))\n",
    "print(len(df_train))\n",
    "print(len(df_test))   \n",
    "print(len(df_val))\n",
    "\n",
    "# Check and remove 'converted' from numerical features list\n",
    "if 'converted' in num_features:\n",
    "    num_features.remove('converted')\n",
    "    \n",
    "# Check and remove 'converted' from categorical features list if it was mistakenly there\n",
    "if 'converted' in cat_features:\n",
    "    cat_features.remove('converted')\n",
    "\n",
    "# # Initiate the model\n",
    "all_features = cat_features +  num_features"
   ]
  },
  {
   "cell_type": "code",
   "execution_count": 187,
   "id": "9c0125ee",
   "metadata": {},
   "outputs": [
    {
     "name": "stdout",
     "output_type": "stream",
     "text": [
      "{'number_of_courses_viewed': 0.761, 'annual_income': 0.538, 'interaction_count': 0.72, 'lead_score': 0.626}\n",
      "The numerical variable with the highest AUC is: number_of_courses_viewed\n"
     ]
    }
   ],
   "source": [
    "# ### Question 1: ROC AUC feature importance\n",
    "from sklearn.metrics import accuracy_score, roc_auc_score, precision_score, recall_score, f1_score\n",
    "from collections import (Counter)\n",
    "\n",
    "# ROC AUC could also be used to evaluate feature importance of numerical variables. # Let's do that\n",
    "# * For each numerical variable, use it as score (aka prediction) and compute the AUC with the `y` variable as ground truth.\n",
    "# * Use the training dataset for that\n",
    "\n",
    "auc_scores = {}\n",
    "\n",
    "for col in num_features:\n",
    "    # Use the numerical variable as the prediction score\n",
    "    y_pred = df_train[col].values\n",
    "\n",
    "    # Calculate AUC\n",
    "    auc = roc_auc_score(y_train, y_pred)\n",
    "\n",
    "# If your AUC is < 0.5, invert this variable by putting \"-\" in front\n",
    "# (e.g. `-df_train['balance']`)\n",
    "\n",
    "    # Invert the score if AUC < 0.5\n",
    "    if auc < 0.5:\n",
    "        y_pred = -y_pred\n",
    "        auc = roc_auc_score(y_train, y_pred)\n",
    "\n",
    "    auc_scores[col] = round(auc,3)\n",
    "\n",
    "# Find the variable with the highest AUC\n",
    "best_feature = max(auc_scores, key=auc_scores.get)\n",
    "\n",
    "print(auc_scores)\n",
    "print(f\"The numerical variable with the highest AUC is: {best_feature}\")\n",
    "\n",
    "\n",
    "# AUC can go below 0.5 if the variable is negatively correlated with the target variable. You can change the direction of the correlation by negating this variable - then negative correlation becomes positive.\n",
    "# Which numerical variable (among the following 4) has the highest AUC?\n",
    "    # - `lead_score`\n",
    "            # - `number_of_courses_viewed`   ----  largest at 0.761\n",
    "    # - `interaction_count`\n",
    "    # - `annual_income`\n",
    "\n",
    "    "
   ]
  },
  {
   "cell_type": "code",
   "execution_count": 188,
   "id": "8d11d777",
   "metadata": {},
   "outputs": [
    {
     "name": "stdout",
     "output_type": "stream",
     "text": [
      "Validation AUC: 0.804\n"
     ]
    },
    {
     "data": {
      "text/plain": [
       "293"
      ]
     },
     "execution_count": 188,
     "metadata": {},
     "output_type": "execute_result"
    }
   ],
   "source": [
    "# ### Question 2: Training the model\n",
    "\n",
    "# Apply one-hot-encoding using `DictVectorizer` and train the logistic regression with these parameters:\n",
    "\n",
    "# ```python\n",
    "# LogisticRegression(solver='liblinear', C=1.0, max_iter=1000)\n",
    "# ```\n",
    "\n",
    "train_dicts = df_train[all_features].to_dict(orient='records') # For making dict row-wise we use orient='records'\n",
    "val_dicts = df_val[all_features].to_dict(orient='records')\n",
    "\n",
    "dv = DictVectorizer(sparse=False)\n",
    "X_train = dv.fit_transform(train_dicts)\n",
    "X_val = dv.transform(val_dicts)\n",
    "\n",
    "model = LogisticRegression(solver='liblinear', C=1.0, max_iter=1000, random_state=42)\n",
    "model.fit(X_train, y_train)\n",
    "# Predict on validation set\n",
    "y_pred = model.predict_proba(X_val)[:, 1]\n",
    "\n",
    "# y_pred = model.predict(X_val) -- only used when we need a 'hard' prediction in int, either 0 or 1 \n",
    "\n",
    "# Calculate AUC on validation set\n",
    "auc_val = roc_auc_score(y_val, y_pred)\n",
    "\n",
    "print(f\"Validation AUC: {auc_val:.3f}\")\n",
    "\n",
    "len(df_test)\n",
    "len(df_val)\n",
    "\n",
    "# What's the AUC of this model on the validation dataset? (round to 3 digits)\n",
    "    # - 0.32\n",
    "    # - 0.52\n",
    "     # - 0.72  - I guess this one is closest? \n",
    "    # - 0.92\n",
    "\n",
    "\n"
   ]
  },
  {
   "cell_type": "code",
   "execution_count": 189,
   "id": "99cf744d",
   "metadata": {},
   "outputs": [
    {
     "name": "stdout",
     "output_type": "stream",
     "text": [
      "TP: 166, FN: 15, FP: 64, TN: 48\n",
      "\n",
      "TPR (Recall) at t=0.5: 0.9171\n",
      "FPR at t=0.5: 0.5714\n"
     ]
    }
   ],
   "source": [
    "# Set the decision threshold\n",
    "t = 0.5 \n",
    "\n",
    "# --- 1. Define Actuals and Predictions ---\n",
    "actual_positive = (y_val == 1)\n",
    "actual_negative = (y_val == 0)\n",
    "\n",
    "predict_positive = (y_pred >= t)\n",
    "predict_negative = (y_pred < t)\n",
    "\n",
    "# --- 2. Calculate Confusion Matrix Components (Counts) ---\n",
    "tp = (predict_positive & actual_positive).sum() # True Positives\n",
    "tn = (predict_negative & actual_negative).sum() # True Negatives\n",
    "fp = (predict_positive & actual_negative).sum() # False Positives\n",
    "fn = (predict_negative & actual_positive).sum() # False Negatives\n",
    "\n",
    "print(f\"TP: {tp}, FN: {fn}, FP: {fp}, TN: {tn}\")\n",
    "\n",
    "# --- 3. Calculate TPR and FPR (Rates) ---\n",
    "\n",
    "# TPR (True Positive Rate) or Recall: Fraction of actual positives correctly identified\n",
    "tpr = tp / (tp + fn) \n",
    "\n",
    "# FPR (False Positive Rate): Fraction of actual negatives incorrectly identified as positive\n",
    "fpr = fp / (fp + tn) \n",
    "\n",
    "print(f\"\\nTPR (Recall) at t={t}: {tpr:.4f}\")\n",
    "print(f\"FPR at t={t}: {fpr:.4f}\")"
   ]
  },
  {
   "cell_type": "code",
   "execution_count": 190,
   "id": "040d6977",
   "metadata": {},
   "outputs": [
    {
     "data": {
      "image/png": "[encoded data removed]",
      "text/plain": [
       "<Figure size 640x480 with 1 Axes>"
      ]
     },
     "metadata": {},
     "output_type": "display_data"
    },
    {
     "name": "stdout",
     "output_type": "stream",
     "text": [
      "0.97\n"
     ]
    }
   ],
   "source": [
    "# ### Question 3: Precision and Recall\n",
    "\n",
    "# Now let's compute precision and recall for our model.\n",
    "# * Evaluate the model on all thresholds from 0.0 to 1.0 with step 0.01\n",
    "\n",
    "thresholds = np.linspace(0.0, 1.0, 101)\n",
    "scores = []\n",
    "\n",
    "# * For each threshold, compute precision and recall\n",
    "for t in thresholds:\n",
    "    y_pred_t = (y_pred >= t)\n",
    "    p = precision_score(y_val, y_pred_t, zero_division=0)\n",
    "    r = recall_score(y_val, y_pred_t, zero_division=0)\n",
    "    scores.append({'threshold':t, 'precision':p, 'recall':r})\n",
    "\n",
    "# Convert the list of dictionaries 'scores' into the DataFrame 'df_scores'\n",
    "df_scores = pd.DataFrame(scores)\n",
    "\n",
    "# * Plot them\n",
    "plt.plot(df_scores.threshold, df_scores.precision, label='Precision')\n",
    "plt.plot(df_scores.threshold, df_scores.recall, label='Recall')\n",
    "plt.legend()\n",
    "plt.xlabel('Threshold')\n",
    "plt.ylabel('Score')\n",
    "plt.title('Precision and Recall vs Threshold')\n",
    "plt.show()\n",
    "\n",
    "# Find the intersection point\n",
    "# The intersection is where abs(precision - recall) is minimized\n",
    "df_scores['diff'] = np.abs(df_scores['precision'] - df_scores['recall'])\n",
    "intersection_threshold = df_scores.loc[df_scores['diff'].idxmin(), 'threshold']\n",
    "\n",
    "print(intersection_threshold)\n",
    "\n",
    "# print(f\"Threshold where Precision and Recall intersect: {intersection_threshold:.3f}\")\n",
    "# At which threshold precision and recall curves intersect?\n",
    "# * 0.145\n",
    "# * 0.345\n",
    "# * 0.545\n",
    "# * 0.745"
   ]
  },
  {
   "cell_type": "code",
   "execution_count": 191,
   "id": "ed2bb902",
   "metadata": {},
   "outputs": [
    {
     "name": "stdout",
     "output_type": "stream",
     "text": [
      "Threshold where F1 score is maximal: 0.55\n"
     ]
    }
   ],
   "source": [
    "# ### Question 4: F1 score\n",
    "\n",
    "# Precision and recall are conflicting - when one grows, the other goes down. That's why they are often combined into the F1 score - a metrics that takes into account both\n",
    "# This is the formula for computing F1:\n",
    "    # $$F_1 = 2 \\cdot \\cfrac{P \\cdot R}{P + R}$$\n",
    "    # Where $P$ is precision and $R$ is recall.\n",
    "# Let's compute F1 for all thresholds from 0.0 to 1.0 with increment 0.01\n",
    "# Note: np.divide is used to safely handle division by zero (result is set to 0 where P+R=0)\n",
    "\n",
    "numerator = 2 * df_scores['precision'] * df_scores['recall']\n",
    "denominator = df_scores['precision'] + df_scores['recall']\n",
    "\n",
    "df_scores['f1'] = np.divide(numerator, denominator, out=np.zeros_like(numerator), where=denominator!=0)\n",
    "\n",
    "max_f1_threshold = df_scores.loc[df_scores['f1'].idxmax(), 'threshold']\n",
    "\n",
    "print(f\"Threshold where F1 score is maximal: {max_f1_threshold:.2f}\")\n",
    "\n",
    "# At which threshold F1 is maximal?\n",
    "# - 0.14\n",
    "# - 0.34\n",
    "    # - 0.54 - this is the closest answer \n",
    "# - 0.74"
   ]
  },
  {
   "cell_type": "code",
   "execution_count": 192,
   "id": "65b10c8a",
   "metadata": {},
   "outputs": [
    {
     "name": "stdout",
     "output_type": "stream",
     "text": [
      "Manually calculated AUC : 0.8048\n"
     ]
    }
   ],
   "source": [
    "# ### Question 5: 5-Fold CV\n",
    "# Use the `KFold` class from Scikit-Learn to evaluate our model on 5 different folds:\n",
    "\n",
    "# ```\n",
    "# KFold(n_splits=5, shuffle=True, random_state=1)\n",
    "# ```\n",
    "\n",
    "# * Iterate over different folds of `df_full_train`\n",
    "# * Split the data into train and validation\n",
    "# * Train the model on train with these parameters: `LogisticRegression(solver='liblinear', C=1.0, max_iter=1000)`\n",
    "# * Use AUC to evaluate the model on validation\n",
    "\n",
    "def tpr_fpr_dataframe(y_val, y_pred):\n",
    "    scores = []\n",
    "    # Create 101 thresholds from 0.0 to 1.0 (step 0.01)\n",
    "    thresholds = np.linspace(0, 1, 101) \n",
    "\n",
    "    for t in thresholds:\n",
    "        actual_positive = (y_val == 1)\n",
    "        actual_negative = (y_val == 0)\n",
    "\n",
    "        predict_positive = (y_pred >= t)\n",
    "        predict_negative = (y_pred < t)\n",
    "\n",
    "        # Confusion Matrix Components\n",
    "        tp = (predict_positive & actual_positive).sum()\n",
    "        tn = (predict_negative & actual_negative).sum()\n",
    "        fp = (predict_positive & actual_negative).sum()\n",
    "        fn = (predict_negative & actual_positive).sum()\n",
    "\n",
    "        scores.append((t, tp, fp, fn, tn))\n",
    "\n",
    "    columns = ['threshold', 'tp', 'fp', 'fn', 'tn']\n",
    "    df_scores = pd.DataFrame(scores, columns=columns)\n",
    "\n",
    "    # Calculate Rates\n",
    "    df_scores['tpr'] = df_scores.tp / (df_scores.tp + df_scores.fn) # TPR (Recall)\n",
    "    df_scores['fpr'] = df_scores.fp / (df_scores.fp + df_scores.tn) # FPR \n",
    "    \n",
    "    return df_scores\n",
    "\n",
    "# Run the function on our model's predictions\n",
    "df_scores = tpr_fpr_dataframe(y_val, y_pred)\n",
    "\n",
    "\n",
    "from sklearn.metrics import auc\n",
    "\n",
    "# Calculate AUC using the trapezoidal rule on the manually generated FPR and TPR columns\n",
    "manual_auc = auc(df_scores.fpr, df_scores.tpr)\n",
    "\n",
    "print(f\"Manually calculated AUC : {manual_auc:.4f}\")\n",
    "\n",
    "\n",
    "# How large is standard deviation of the scores across different folds?\n",
    "\n",
    "# - 0.0001\n",
    "# - 0.006\n",
    "# - 0.06\n",
    "# - 0.36"
   ]
  },
  {
   "cell_type": "code",
   "execution_count": 193,
   "id": "f41f3df8",
   "metadata": {},
   "outputs": [
    {
     "name": "stderr",
     "output_type": "stream",
     "text": [
      "100%|██████████| 3/3 [00:00<00:00, 11.61it/s]"
     ]
    },
    {
     "name": "stdout",
     "output_type": "stream",
     "text": [
      "C=1e-06: AUC mean = 0.544 +- 0.056\n",
      "C=0.001: AUC mean = 0.865 +- 0.018\n",
      "C=1: AUC mean = 0.819 +- 0.029\n"
     ]
    },
    {
     "name": "stderr",
     "output_type": "stream",
     "text": [
      "\n"
     ]
    }
   ],
   "source": [
    "from tqdm.auto import tqdm\n",
    "from sklearn.model_selection import KFold\n",
    "from sklearn.metrics import roc_auc_score\n",
    "\n",
    "n_splits = 5\n",
    "C_values = [0.000001, 0.001, 1]\n",
    "\n",
    "# KFold splits the indices of the full training set\n",
    "kfold = KFold(n_splits=n_splits, shuffle=True, random_state=1)\n",
    "\n",
    "for C in tqdm(C_values):\n",
    "    scores = []\n",
    "    \n",
    "    # Iterate through the indices provided by kfold.split\n",
    "    # Note: we use the original df_full_train and y_full_train\n",
    "    for train_idx, val_idx in kfold.split(df_full_train):\n",
    "        \n",
    "        # Use .iloc[] to select the correct feature subsets\n",
    "        df_train_k = df_full_train.iloc[train_idx]\n",
    "        df_val_k = df_full_train.iloc[val_idx]\n",
    "\n",
    "        # Use the indices to select the correct target subsets\n",
    "        y_train_k = y_full_train[train_idx]\n",
    "        y_val_k = y_full_train[val_idx]\n",
    "\n",
    "        # Train and Predict using your functions\n",
    "        dv, model = train(df_train_k, y_train_k, C=C)\n",
    "        y_pred = predict(df_val_k, dv, model)\n",
    "\n",
    "        auc = roc_auc_score(y_val_k, y_pred)\n",
    "        scores.append(auc)\n",
    "\n",
    "    mean_score = np.mean(scores)\n",
    "    std_score = np.std(scores)\n",
    "    print(f\"C={C}: AUC mean = {mean_score:.3f} +- {std_score:.3f}\")"
   ]
  },
  {
   "cell_type": "code",
   "execution_count": 194,
   "id": "e47d0440",
   "metadata": {},
   "outputs": [
    {
     "name": "stderr",
     "output_type": "stream",
     "text": [
      " 67%|██████▋   | 2/3 [00:00<00:00,  5.95it/s]"
     ]
    },
    {
     "name": "stdout",
     "output_type": "stream",
     "text": [
      "C=1e-06: AUC mean = 0.544 +- 0.056\n",
      "C=0.001: AUC mean = 0.865 +- 0.018\n"
     ]
    },
    {
     "name": "stderr",
     "output_type": "stream",
     "text": [
      "100%|██████████| 3/3 [00:00<00:00,  6.05it/s]"
     ]
    },
    {
     "name": "stdout",
     "output_type": "stream",
     "text": [
      "C=1: AUC mean = 0.819 +- 0.029\n"
     ]
    },
    {
     "name": "stderr",
     "output_type": "stream",
     "text": [
      "\n"
     ]
    }
   ],
   "source": [
    "# ### Question 6: Hyperparameter Tuning\n",
    "\n",
    "from tqdm.auto import tqdm\n",
    "from sklearn.model_selection import KFold\n",
    "\n",
    "# Now let's use 5-Fold cross-validation to find the best parameter `C`\n",
    "\n",
    "# * Iterate over the following `C` values: `[0.000001, 0.001, 1]`\n",
    "# * Initialize `KFold` with the same parameters as previously\n",
    "# * Use these parameters for the model: `LogisticRegression(solver='liblinear', C=C, max_iter=1000)`\n",
    "# * Compute the mean score as well as the std (round the mean and std to 3 decimal digits)\n",
    "\n",
    "\n",
    "def train(df_train, y_train, C=1.0):\n",
    "    # 'all_features' needs to be defined as the combination of categorical and numerical features\n",
    "    all_features = cat_features + num_features\n",
    "    dicts = df_train[all_features].to_dict(orient='records')\n",
    "    dv = DictVectorizer(sparse=False)\n",
    "    X_train = dv.fit_transform(dicts)\n",
    "    model = LogisticRegression(solver='liblinear', C=C, max_iter=1000, random_state=42)\n",
    "    model.fit(X_train, y_train)\n",
    "    return dv, model\n",
    "\n",
    "def predict(df, dv, model):\n",
    "    all_features = cat_features + num_features\n",
    "    dicts = df[all_features].to_dict(orient='records')\n",
    "    X = dv.transform(dicts)\n",
    "    # Get the probability of the positive class (churn/converted)\n",
    "    y_pred = model.predict_proba(X)[:, 1]\n",
    "    return y_pred\n",
    "\n",
    "\n",
    "# ---------------------------------------------------\n",
    "\n",
    "n_splits = 5\n",
    "C_values = [0.000001, 0.001, 1]\n",
    "results = {}\n",
    "\n",
    "# Ensure the full training data has the target variable 'converted' for CV\n",
    "df_full_train_cv = df_full_train.copy()\n",
    "df_full_train_cv['converted'] = y_full_train \n",
    "\n",
    "for C in tqdm(C_values):\n",
    "    kfold = KFold(n_splits=n_splits, shuffle=True, random_state=1)\n",
    "    scores = []\n",
    "\n",
    "    for train_idx, val_idx in kfold.split(df_full_train_cv):\n",
    "        df_train_k = df_full_train_cv.iloc[train_idx].drop(columns=['converted'])\n",
    "        df_val_k = df_full_train_cv.iloc[val_idx].drop(columns=['converted'])\n",
    "\n",
    "        y_train_k = df_full_train_cv.iloc[train_idx]['converted'].values\n",
    "        y_val_k = df_full_train_cv.iloc[val_idx]['converted'].values\n",
    "\n",
    "        dv, model = train(df_train_k, y_train_k, C=C)\n",
    "        y_pred = predict(df_val_k, dv, model)\n",
    "\n",
    "        auc = roc_auc_score(y_val_k, y_pred)\n",
    "        scores.append(auc)\n",
    "\n",
    "    mean_score = np.mean(scores)\n",
    "    std_score = np.std(scores)\n",
    "    results[C] = {'mean_auc': mean_score, 'std_auc': std_score}\n",
    "\n",
    "    print(f\"C={C}: AUC mean = {mean_score:.3f} +- {std_score:.3f}\")\n",
    "\n",
    "\n",
    "# Which `C` leads to the best mean score?\n",
    "# - 0.000001\n",
    "    # - 0.001  - the highest AUC mean of 00865 \n",
    "# - 1\n",
    "\n",
    "# If you have ties, select the score with the lowest std. If you still have ties, select the smallest `C`."
   ]
  },
  {
   "cell_type": "code",
   "execution_count": null,
   "id": "e3c256b7",
   "metadata": {},
   "outputs": [
    {
     "name": "stdout",
     "output_type": "stream",
     "text": [
      "Starting Cross-Validation to collect ROC data...\n"
     ]
    },
    {
     "name": "stderr",
     "output_type": "stream",
     "text": [
      " 67%|██████▋   | 2/3 [00:00<00:00, 11.29it/s]"
     ]
    },
    {
     "name": "stdout",
     "output_type": "stream",
     "text": [
      "C=1e-06: Mean AUC = 0.544 +- 0.056\n",
      "C=0.001: Mean AUC = 0.865 +- 0.018\n",
      "C=1: Mean AUC = 0.819 +- 0.029"
     ]
    },
    {
     "name": "stderr",
     "output_type": "stream",
     "text": [
      "100%|██████████| 3/3 [00:00<00:00, 10.41it/s]"
     ]
    },
    {
     "name": "stdout",
     "output_type": "stream",
     "text": [
      "\n"
     ]
    },
    {
     "name": "stderr",
     "output_type": "stream",
     "text": [
      "\n"
     ]
    },
    {
     "data": {
      "text/plain": [
       "<bound method _AxesBase.set_aspect of <Axes: title={'center': 'ROC Curve for Different Regularization Parameters (C)'}, xlabel='False Positive Rate (FPR)', ylabel='True Positive Rate (TPR) / Recall'>>"
      ]
     },
     "execution_count": 195,
     "metadata": {},
     "output_type": "execute_result"
    },
    {
     "data": {
      "image/png": "[encoded data removed]",
      "text/plain": [
       "<Figure size 700x700 with 1 Axes>"
      ]
     },
     "metadata": {},
     "output_type": "display_data"
    }
   ],
   "source": [
    "import numpy as np\n",
    "import pandas as pd\n",
    "import matplotlib.pyplot as plt\n",
    "from sklearn.model_selection import KFold\n",
    "from sklearn.metrics import roc_curve, roc_auc_score\n",
    "from tqdm.auto import tqdm\n",
    "\n",
    "C_values = [0.000001, 0.001, 1]\n",
    "n_splits = 5\n",
    "\n",
    "# Dictionary to store (FPR, TPR, AUC) for plotting\n",
    "roc_data = {}\n",
    "\n",
    "# KFold splitter\n",
    "kfold = KFold(n_splits=n_splits, shuffle=True, random_state=1)\n",
    "\n",
    "print(\"Starting Cross-Validation to collect ROC data...\")\n",
    "\n",
    "# We iterate through the C values and only use the results from the first fold\n",
    "for C in tqdm(C_values):\n",
    "    scores = []\n",
    "    \n",
    "    # Run the KFold split. We only care about the first fold (i=0)\n",
    "    for i, (train_idx, val_idx) in enumerate(kfold.split(df_full_train)):\n",
    "        \n",
    "        df_train_k = df_full_train.iloc[train_idx]\n",
    "        df_val_k = df_full_train.iloc[val_idx]\n",
    "\n",
    "        y_train_k = y_full_train[train_idx]\n",
    "        y_val_k = y_full_train[val_idx]\n",
    "\n",
    "        # Train and Predict\n",
    "        # Note: You must ensure your 'train' and 'predict' functions are defined correctly\n",
    "        dv, model = train(df_train_k, y_train_k, C=C)\n",
    "        y_pred = predict(df_val_k, dv, model)\n",
    "\n",
    "        auc_score = roc_auc_score(y_val_k, y_pred)\n",
    "        scores.append(auc_score)\n",
    "        \n",
    "        # Only store the data for the first fold (i=0) to generate the curve\n",
    "        if i == 0:\n",
    "            fpr, tpr, thresholds = roc_curve(y_val_k, y_pred)\n",
    "            roc_data[C] = {'fpr': fpr, 'tpr': tpr, 'auc': auc_score}\n",
    "            \n",
    "    # Print mean AUC for verification (should match your previous answer)\n",
    "    print(f\"C={C}: Mean AUC = {np.mean(scores):.3f} +- {np.std(scores):.3f}\")\n",
    "\n",
    "\n",
    "# --- Plotting the ROC Curves ---\n",
    "plt.figure(figsize=(7, 7))\n",
    "\n",
    "for C, data in roc_data.items():\n",
    "    # Format the label to include the C value and the AUC from this fold\n",
    "    label = f'C={C} (AUC={data[\"auc\"]:.3f})'\n",
    "    plt.plot(data['fpr'], data['tpr'], label=label, linewidth=2)\n",
    "\n",
    "# Plot the baseline (random) model\n",
    "plt.plot([0, 1], [0, 1], label='Random (AUC=0.500)', linestyle='--', color='gray')\n",
    "\n",
    "# Add titles and labels\n",
    "plt.xlabel('False Positive Rate (FPR)')\n",
    "plt.ylabel('True Positive Rate (TPR) / Recall')\n",
    "plt.title('ROC Curve for Different Regularization Parameters (C)')\n",
    "plt.legend(loc='lower right')\n",
    "plt.grid(linestyle='--', alpha=0.6)\n",
    "plt.gca().set_aspect\n"
   ]
  }
 ],
 "metadata": {
  "kernelspec": {
   "display_name": "Python 3",
   "language": "python",
   "name": "python3"
  },
  "language_info": {
   "codemirror_mode": {
    "name": "ipython",
    "version": 3
   },
   "file_extension": ".py",
   "mimetype": "text/x-python",
   "name": "python",
   "nbconvert_exporter": "python",
   "pygments_lexer": "ipython3",
   "version": "3.13.3"
  }
 },
 "nbformat": 4,
 "nbformat_minor": 5
}
