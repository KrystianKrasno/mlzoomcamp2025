{
 "cells": [
  {
   "cell_type": "code",
   "execution_count": 140,
   "id": "65a91fa5-0111-4b90-ad97-68cf7e96cbbf",
   "metadata": {},
   "outputs": [
    {
     "data": {
      "text/plain": [
       "'2.3.1'"
      ]
     },
     "execution_count": 140,
     "metadata": {},
     "output_type": "execute_result"
    }
   ],
   "source": [
    "import pandas as pd\n",
    "\n",
    "# To display all rows\n",
    "pd.set_option('display.max_rows', None) \n",
    "\n",
    "# To display all columns\n",
    "pd.set_option('display.max_columns', None)\n",
    "\n",
    "# Q1\n",
    "pd.__version__"
   ]
  },
  {
   "cell_type": "code",
   "execution_count": 141,
   "id": "9053e503-eace-4f7a-a326-1ed01e31f504",
   "metadata": {},
   "outputs": [
    {
     "name": "stdout",
     "output_type": "stream",
     "text": [
      "(2160, 12)\n"
     ]
    },
    {
     "data": {
      "text/html": [
       "<div>\n",
       "<style scoped>\n",
       "    .dataframe tbody tr th:only-of-type {\n",
       "        vertical-align: middle;\n",
       "    }\n",
       "\n",
       "    .dataframe tbody tr th {\n",
       "        vertical-align: top;\n",
       "    }\n",
       "\n",
       "    .dataframe thead th {\n",
       "        text-align: right;\n",
       "    }\n",
       "</style>\n",
       "<table border=\"1\" class=\"dataframe\">\n",
       "  <thead>\n",
       "    <tr style=\"text-align: right;\">\n",
       "      <th></th>\n",
       "      <th>Laptop</th>\n",
       "      <th>Status</th>\n",
       "      <th>Brand</th>\n",
       "      <th>Model</th>\n",
       "      <th>CPU</th>\n",
       "      <th>RAM</th>\n",
       "      <th>Storage</th>\n",
       "      <th>Storage type</th>\n",
       "      <th>GPU</th>\n",
       "      <th>Screen</th>\n",
       "      <th>Touch</th>\n",
       "      <th>Final Price</th>\n",
       "    </tr>\n",
       "  </thead>\n",
       "  <tbody>\n",
       "    <tr>\n",
       "      <th>0</th>\n",
       "      <td>ASUS ExpertBook B1 B1502CBA-EJ0436X Intel Core...</td>\n",
       "      <td>New</td>\n",
       "      <td>Asus</td>\n",
       "      <td>ExpertBook</td>\n",
       "      <td>Intel Core i5</td>\n",
       "      <td>8</td>\n",
       "      <td>512</td>\n",
       "      <td>SSD</td>\n",
       "      <td>NaN</td>\n",
       "      <td>15.6</td>\n",
       "      <td>No</td>\n",
       "      <td>1009.00</td>\n",
       "    </tr>\n",
       "    <tr>\n",
       "      <th>1</th>\n",
       "      <td>Alurin Go Start Intel Celeron N4020/8GB/256GB ...</td>\n",
       "      <td>New</td>\n",
       "      <td>Alurin</td>\n",
       "      <td>Go</td>\n",
       "      <td>Intel Celeron</td>\n",
       "      <td>8</td>\n",
       "      <td>256</td>\n",
       "      <td>SSD</td>\n",
       "      <td>NaN</td>\n",
       "      <td>15.6</td>\n",
       "      <td>No</td>\n",
       "      <td>299.00</td>\n",
       "    </tr>\n",
       "    <tr>\n",
       "      <th>2</th>\n",
       "      <td>ASUS ExpertBook B1 B1502CBA-EJ0424X Intel Core...</td>\n",
       "      <td>New</td>\n",
       "      <td>Asus</td>\n",
       "      <td>ExpertBook</td>\n",
       "      <td>Intel Core i3</td>\n",
       "      <td>8</td>\n",
       "      <td>256</td>\n",
       "      <td>SSD</td>\n",
       "      <td>NaN</td>\n",
       "      <td>15.6</td>\n",
       "      <td>No</td>\n",
       "      <td>789.00</td>\n",
       "    </tr>\n",
       "    <tr>\n",
       "      <th>3</th>\n",
       "      <td>MSI Katana GF66 12UC-082XES Intel Core i7-1270...</td>\n",
       "      <td>New</td>\n",
       "      <td>MSI</td>\n",
       "      <td>Katana</td>\n",
       "      <td>Intel Core i7</td>\n",
       "      <td>16</td>\n",
       "      <td>1000</td>\n",
       "      <td>SSD</td>\n",
       "      <td>RTX 3050</td>\n",
       "      <td>15.6</td>\n",
       "      <td>No</td>\n",
       "      <td>1199.00</td>\n",
       "    </tr>\n",
       "    <tr>\n",
       "      <th>4</th>\n",
       "      <td>HP 15S-FQ5085NS Intel Core i5-1235U/16GB/512GB...</td>\n",
       "      <td>New</td>\n",
       "      <td>HP</td>\n",
       "      <td>15S</td>\n",
       "      <td>Intel Core i5</td>\n",
       "      <td>16</td>\n",
       "      <td>512</td>\n",
       "      <td>SSD</td>\n",
       "      <td>NaN</td>\n",
       "      <td>15.6</td>\n",
       "      <td>No</td>\n",
       "      <td>669.01</td>\n",
       "    </tr>\n",
       "  </tbody>\n",
       "</table>\n",
       "</div>"
      ],
      "text/plain": [
       "                                              Laptop Status   Brand  \\\n",
       "0  ASUS ExpertBook B1 B1502CBA-EJ0436X Intel Core...    New    Asus   \n",
       "1  Alurin Go Start Intel Celeron N4020/8GB/256GB ...    New  Alurin   \n",
       "2  ASUS ExpertBook B1 B1502CBA-EJ0424X Intel Core...    New    Asus   \n",
       "3  MSI Katana GF66 12UC-082XES Intel Core i7-1270...    New     MSI   \n",
       "4  HP 15S-FQ5085NS Intel Core i5-1235U/16GB/512GB...    New      HP   \n",
       "\n",
       "        Model            CPU  RAM  Storage Storage type       GPU  Screen  \\\n",
       "0  ExpertBook  Intel Core i5    8      512          SSD       NaN    15.6   \n",
       "1          Go  Intel Celeron    8      256          SSD       NaN    15.6   \n",
       "2  ExpertBook  Intel Core i3    8      256          SSD       NaN    15.6   \n",
       "3      Katana  Intel Core i7   16     1000          SSD  RTX 3050    15.6   \n",
       "4         15S  Intel Core i5   16      512          SSD       NaN    15.6   \n",
       "\n",
       "  Touch  Final Price  \n",
       "0    No      1009.00  \n",
       "1    No       299.00  \n",
       "2    No       789.00  \n",
       "3    No      1199.00  \n",
       "4    No       669.01  "
      ]
     },
     "execution_count": 141,
     "metadata": {},
     "output_type": "execute_result"
    }
   ],
   "source": [
    "# Q2\n",
    "pd.read_csv(\"/workspaces/mlzoomcamp2025/laptops.csv\")\n",
    "\n",
    "# There are 2160 'records' but only 2159 rows of data in the laptops.csv dataset\n",
    "\n",
    "df = pd.read_csv(\"/workspaces/mlzoomcamp2025/laptops.csv\")\n",
    "\n",
    "print(df.shape)\n",
    "df.head()\n"
   ]
  },
  {
   "cell_type": "code",
   "execution_count": 142,
   "id": "de56b8d5-8745-4aed-b4be-c764c634bf9b",
   "metadata": {},
   "outputs": [
    {
     "name": "stdout",
     "output_type": "stream",
     "text": [
      "The number of unique Brands is 27\n"
     ]
    }
   ],
   "source": [
    "# Q3 - Number of Laptop Brands?\n",
    "\n",
    "q3ans = df['Brand'].nunique()\n",
    "\n",
    "\n",
    "\n",
    "print('The number of unique Brands is', q3ans)  \n"
   ]
  },
  {
   "cell_type": "code",
   "execution_count": 143,
   "id": "98221b1c",
   "metadata": {},
   "outputs": [
    {
     "name": "stdout",
     "output_type": "stream",
     "text": [
      "The number of columsn with missing values is 3\n"
     ]
    }
   ],
   "source": [
    "# Q4 - How many columns in dataset have missing values?\n",
    "\n",
    "q4ans = (df.isnull().sum() > 0).sum()\n",
    "\n",
    "print('The number of columsn with missing values is', q4ans)  "
   ]
  },
  {
   "cell_type": "code",
   "execution_count": 144,
   "id": "6bd12473",
   "metadata": {},
   "outputs": [
    {
     "name": "stdout",
     "output_type": "stream",
     "text": [
      "The max value in Final Price is $ 3936.0\n"
     ]
    }
   ],
   "source": [
    "# Q5 - Max Price of Dell Notebooks \n",
    "\n",
    "    # max_finalPrice = df['Final Price'].max()\n",
    "    # print(max_finalPrice)\n",
    "\n",
    "max_finalPrice_dell = df[df['Brand'] == 'Dell']['Final Price'].max()\n",
    "\n",
    "print('The max value in Final Price is $',max_finalPrice_dell)  "
   ]
  },
  {
   "cell_type": "code",
   "execution_count": 145,
   "id": "59e0b109",
   "metadata": {},
   "outputs": [
    {
     "name": "stdout",
     "output_type": "stream",
     "text": [
      "The MEAN value of 'Screen' column is 15.6\n",
      "The MODE is 15.6\n",
      "Laptop             0\n",
      "Status             0\n",
      "Brand              0\n",
      "Model              0\n",
      "CPU                0\n",
      "RAM                0\n",
      "Storage            0\n",
      "Storage type      42\n",
      "GPU             1371\n",
      "Screen             4\n",
      "Touch              0\n",
      "Final Price        0\n",
      "dtype: int64\n"
     ]
    }
   ],
   "source": [
    "# Q6. Median value of Screen\n",
    "# Find the median value of Screen column in the dataset.\n",
    "median_screen = df['Screen'].median() \n",
    "print(\"The MEAN value of 'Screen' column is\",median_screen)\n",
    "\n",
    "\n",
    "# Next, calculate the most frequent value of the same Screen column.\n",
    "mode_screen = df['Screen'].mode()[0] \n",
    "#the mode [0] is to access the first element (and ignore the returned index of the Series)\n",
    "\n",
    "print(\"The MODE is\", mode_screen) \n",
    "\n",
    "print( df.isnull().sum() ) \n"
   ]
  },
  {
   "cell_type": "code",
   "execution_count": 146,
   "id": "7169f3fd",
   "metadata": {},
   "outputs": [
    {
     "name": "stdout",
     "output_type": "stream",
     "text": [
      "Laptop             0\n",
      "Status             0\n",
      "Brand              0\n",
      "Model              0\n",
      "CPU                0\n",
      "RAM                0\n",
      "Storage            0\n",
      "Storage type      42\n",
      "GPU             1371\n",
      "Screen             0\n",
      "Touch              0\n",
      "Final Price        0\n",
      "dtype: int64\n",
      "The MODE is 15.6\n",
      "The MEAN value of 'Screen' column is 15.6\n"
     ]
    }
   ],
   "source": [
    "# Use fillna method to fill the missing values in Screen column with the most frequent value from the previous step.\n",
    "df['Screen'] = df['Screen'].fillna(15.6)\n",
    "\n",
    "print( df.isnull().sum() )  #confirm 0 empty in ['Screen']\n",
    "\n",
    "new_mode_screen = df['Screen'].mode()[0] \n",
    "print(\"The MODE is\", new_mode_screen) \n",
    "\n",
    "# Now, calculate the median value of Screen once again.\n",
    "\n",
    "new_median_screen = df['Screen'].median() \n",
    "print(\"The MEAN value of 'Screen' column is\", new_median_screen)\n",
    "\n",
    "# Has it changed?\n",
    "    # No the median value is still 15.6. \n",
    "\n",
    "# Hint: refer to existing mode and median functions to complete the task.\n"
   ]
  },
  {
   "cell_type": "code",
   "execution_count": 147,
   "id": "9874b7ea",
   "metadata": {},
   "outputs": [
    {
     "name": "stdout",
     "output_type": "stream",
     "text": [
      "      RAM  Storage  Screen\n",
      "1478    8      256    15.6\n",
      "1479    8      512    15.6\n",
      "1480    4       64    14.1\n",
      "1481    6       64    14.1\n",
      "1482    6      128    14.1\n",
      "1483    6      128    14.1 \n",
      "\n",
      "[[  8.  256.   15.6]\n",
      " [  8.  512.   15.6]\n",
      " [  4.   64.   14.1]\n",
      " [  6.   64.   14.1]\n",
      " [  6.  128.   14.1]\n",
      " [  6.  128.   14.1]] \n",
      "\n",
      "[[2.52000e+02 8.32000e+03 5.59800e+02]\n",
      " [8.32000e+03 3.68640e+05 1.73952e+04]\n",
      " [5.59800e+02 1.73952e+04 1.28196e+03]] \n",
      "\n",
      "[[ 2.78025381e-01 -1.51791334e-03 -1.00809855e-01]\n",
      " [-1.51791334e-03  1.58286725e-05  4.48052175e-04]\n",
      " [-1.00809855e-01  4.48052175e-04  3.87214888e-02]]\n"
     ]
    }
   ],
   "source": [
    "# Q7. Sum of weights\n",
    "\n",
    "import numpy as np\n",
    "\n",
    "# Select all the \"Innjoo\" (its a selection of column 'Brand' ) laptops from the dataset.\n",
    "# Select only columns RAM, Storage, Screen.\n",
    "df_injoo = df[df['Brand']=='Innjoo'][['RAM','Storage','Screen']]\n",
    "\n",
    "# Get the underlying NumPy array. Let's call it X.\n",
    "x = df_injoo.to_numpy()\n",
    "print(df_injoo.head(999), \"\\n\") #just to get all rows\n",
    "\n",
    "\n",
    "print(x, \"\\n\")\n",
    "\n",
    "# Compute matrix-matrix multiplication between the transpose of X and X. To get the transpose, use X.T. Let's call the result XTX.\n",
    "\n",
    "xtx = np.dot(x.T, x)\n",
    "print(xtx, \"\\n\")\n",
    "\n",
    "# Compute the inverse of XTX.\n",
    "xtx_inverse = np.linalg.inv(xtx)\n",
    "print(xtx_inverse)\n"
   ]
  },
  {
   "cell_type": "code",
   "execution_count": 154,
   "id": "860af08d",
   "metadata": {},
   "outputs": [
    {
     "name": "stdout",
     "output_type": "stream",
     "text": [
      "w is equal to: [45.58076606  0.42783519 45.29127938]\n",
      "The sum of w is 91.3\n"
     ]
    }
   ],
   "source": [
    "# Create an array y with values [1100, 1300, 800, 900, 1000, 1100].\n",
    "y = np.array([1100, 1300, 800, 900, 1000, 1100])\n",
    "\n",
    "# Multiply the inverse of XTX with the transpose of X, and then multiply the result by y. Call the result w.\n",
    "w = xtx_inverse.dot(x.T).dot(y)\n",
    "\n",
    "print('w is equal to:', w)\n",
    "\n",
    "# What's the sum of all the elements of the result?\n",
    "print('The sum of w is',sum(w).round(1) ) \n",
    "\n",
    "# Note: You just implemented linear regression. We'll talk about it in the next lesson.\n",
    "\n",
    "# 0.43\n",
    "# 45.29\n",
    "# 45.58\n",
    "# 91.30"
   ]
  }
 ],
 "metadata": {
  "kernelspec": {
   "display_name": "Python 3",
   "language": "python",
   "name": "python3"
  },
  "language_info": {
   "codemirror_mode": {
    "name": "ipython",
    "version": 3
   },
   "file_extension": ".py",
   "mimetype": "text/x-python",
   "name": "python",
   "nbconvert_exporter": "python",
   "pygments_lexer": "ipython3",
   "version": "3.12.1"
  }
 },
 "nbformat": 4,
 "nbformat_minor": 5
}
